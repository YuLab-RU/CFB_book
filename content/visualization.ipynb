{
 "cells": [
  {
   "cell_type": "markdown",
   "metadata": {},
   "source": [
    "# Visualization\n",
    "\n",
    "In this Pandas tutorial you will use Pandas to explore ChIP-seq and DNase-seq footprinting datasets for 3 different celltypes from the Roadmap data: \n",
    "\n",
    "* E081: Fetal Brain Male\n",
    "* E082: Fetal Brain Female\n",
    "* E083: Fetal Heart\n",
    "\n",
    "Before we start, import the appropriate modules "
   ]
  },
  {
   "cell_type": "code",
   "execution_count": 1,
   "metadata": {
    "scrolled": true
   },
   "outputs": [],
   "source": [
    "import pandas as pd\n",
    "import numpy as np\n",
    "import matplotlib.pyplot as plt\n",
    "import seaborn as sns\n",
    "%matplotlib inline\n",
    "\n",
    "# Set directory for the data files\n",
    "DATA_DIR = \"/content/gdrive/MyDrive/CFB_files/visual\""
   ]
  },
  {
   "cell_type": "code",
   "execution_count": 2,
   "metadata": {
    "tags": [
     "remove-cell"
    ]
   },
   "outputs": [],
   "source": [
    "# Set directory for the data files\n",
    "# Only for building the book!\n",
    "DATA_DIR = \"../data/visual\""
   ]
  },
  {
   "cell_type": "markdown",
   "metadata": {},
   "source": [
    "Note that by doing this:\n",
    "\n",
    "* we import three modules: \n",
    "    * `pandas`, a module that allows us to work with DataFrames\n",
    "    * `numpy`, a module for scientific calculations\n",
    "    * `pyplot` functionality from the module `matplotlib`\n",
    "    * `seaborn`, a module for making pretty plots\n",
    "* we make sure that\n",
    "    * `pandas` commands can be called with `pd.`\n",
    "    * `numpy` commands can be called with `np.`\n",
    "    * `pyplot` commands can be called with `plt.`\n",
    "    * `seaborn` commands can be called with `sns.`\n",
    "* `%matplotlib inline`: we make sure that all plotting is going to be shown \"inline\" with our commands (in Jupyter)\n",
    "\n",
    "\n",
    "## H3K4me1 and H3K4me3 marking in promoters and enhancers in Fetal Brain\n",
    "\n",
    "Next, we can import the data for E082 into pandas DataFrames, using the `read_csv()` function. Note: in earlier versions of pandas you could use the `read_table()` function, however, in newer versions of pandas this function has been deprecated and will be removed.\n",
    "\n"
   ]
  },
  {
   "cell_type": "code",
   "execution_count": 3,
   "metadata": {},
   "outputs": [],
   "source": [
    "file_name = 'hg19_RefSeq_TSS500__E082-H3K4me1.counts.gz'\n",
    "file_path = DATA_DIR + '/' + file_name # file path as 'directory_name/file_name'\n",
    "E082_prom_K4me1 = pd.read_csv(file_path, \n",
    "                              sep=\"\\t\", # The files are tab-separated \n",
    "                              names=['chr', 'start', 'end', 'reads'])\n",
    "\n",
    "file_name = 'regions_enh_E081_E082_E083__E082-H3K4me1.counts.gz'\n",
    "file_path = DATA_DIR + '/' + file_name \n",
    "E082_enh_K4me1 = pd.read_csv(file_path,sep=\"\\t\", \n",
    "                             names=['chr', 'start', 'end', 'reads'])\n",
    "\n",
    "file_name = 'hg19_RefSeq_TSS500__E082-H3K4me3.counts.gz'\n",
    "file_path = DATA_DIR + '/' + file_name \n",
    "E082_prom_K4me3 = pd.read_csv(file_path, sep=\"\\t\", \n",
    "                              names=['chr', 'start', 'end', 'reads'])\n",
    "\n",
    "file_name = 'regions_enh_E081_E082_E083__E082-H3K4me3.counts.gz'\n",
    "file_path = DATA_DIR + '/' + file_name \n",
    "E082_enh_K4me3 = pd.read_csv(file_path, sep=\"\\t\", \n",
    "                             names=['chr', 'start', 'end', 'reads'])\n"
   ]
  },
  {
   "cell_type": "markdown",
   "metadata": {},
   "source": [
    "For each DataFrame, make columns with the corresponding annotation\n"
   ]
  },
  {
   "cell_type": "code",
   "execution_count": 4,
   "metadata": {},
   "outputs": [],
   "source": [
    "E082_prom_K4me1['elem'] = 'prom'\n",
    "E082_enh_K4me1['elem'] = 'enh'\n",
    "E082_prom_K4me3['elem'] = 'prom'\n",
    "E082_enh_K4me3['elem'] = 'enh'\n",
    "\n",
    "E082_prom_K4me1['mark'] = 'H3K4me1'\n",
    "E082_enh_K4me1['mark'] = 'H3K4me1'\n",
    "E082_prom_K4me3['mark'] = 'H3K4me3'\n",
    "E082_enh_K4me3['mark'] = 'H3K4me3'"
   ]
  },
  {
   "cell_type": "markdown",
   "metadata": {},
   "source": [
    "Check the result by doing a `head()` on some of the DataFrames ( `df.head()`, where `df` is the object name of the DataFrame )\n",
    "\n",
    "Concatenate the DataFrames into one DataFrame (all DataFrame rows will be added to one big DataFrame)\n"
   ]
  },
  {
   "cell_type": "code",
   "execution_count": 5,
   "metadata": {},
   "outputs": [
    {
     "data": {
      "text/html": [
       "<div>\n",
       "<style scoped>\n",
       "    .dataframe tbody tr th:only-of-type {\n",
       "        vertical-align: middle;\n",
       "    }\n",
       "\n",
       "    .dataframe tbody tr th {\n",
       "        vertical-align: top;\n",
       "    }\n",
       "\n",
       "    .dataframe thead th {\n",
       "        text-align: right;\n",
       "    }\n",
       "</style>\n",
       "<table border=\"1\" class=\"dataframe\">\n",
       "  <thead>\n",
       "    <tr style=\"text-align: right;\">\n",
       "      <th></th>\n",
       "      <th>chr</th>\n",
       "      <th>start</th>\n",
       "      <th>end</th>\n",
       "      <th>reads</th>\n",
       "      <th>elem</th>\n",
       "      <th>mark</th>\n",
       "    </tr>\n",
       "  </thead>\n",
       "  <tbody>\n",
       "    <tr>\n",
       "      <th>0</th>\n",
       "      <td>chr1</td>\n",
       "      <td>66999324</td>\n",
       "      <td>67000324</td>\n",
       "      <td>24</td>\n",
       "      <td>prom</td>\n",
       "      <td>H3K4me1</td>\n",
       "    </tr>\n",
       "    <tr>\n",
       "      <th>1</th>\n",
       "      <td>chr1</td>\n",
       "      <td>16766666</td>\n",
       "      <td>16767666</td>\n",
       "      <td>23</td>\n",
       "      <td>prom</td>\n",
       "      <td>H3K4me1</td>\n",
       "    </tr>\n",
       "    <tr>\n",
       "      <th>2</th>\n",
       "      <td>chr1</td>\n",
       "      <td>25071259</td>\n",
       "      <td>25072259</td>\n",
       "      <td>14</td>\n",
       "      <td>prom</td>\n",
       "      <td>H3K4me1</td>\n",
       "    </tr>\n",
       "    <tr>\n",
       "      <th>3</th>\n",
       "      <td>chr1</td>\n",
       "      <td>16766666</td>\n",
       "      <td>16767666</td>\n",
       "      <td>23</td>\n",
       "      <td>prom</td>\n",
       "      <td>H3K4me1</td>\n",
       "    </tr>\n",
       "    <tr>\n",
       "      <th>4</th>\n",
       "      <td>chr1</td>\n",
       "      <td>33546213</td>\n",
       "      <td>33547213</td>\n",
       "      <td>32</td>\n",
       "      <td>prom</td>\n",
       "      <td>H3K4me1</td>\n",
       "    </tr>\n",
       "    <tr>\n",
       "      <th>...</th>\n",
       "      <td>...</td>\n",
       "      <td>...</td>\n",
       "      <td>...</td>\n",
       "      <td>...</td>\n",
       "      <td>...</td>\n",
       "      <td>...</td>\n",
       "    </tr>\n",
       "    <tr>\n",
       "      <th>535335</th>\n",
       "      <td>chrX</td>\n",
       "      <td>154985971</td>\n",
       "      <td>154986037</td>\n",
       "      <td>1</td>\n",
       "      <td>enh</td>\n",
       "      <td>H3K4me3</td>\n",
       "    </tr>\n",
       "    <tr>\n",
       "      <th>535336</th>\n",
       "      <td>chrX</td>\n",
       "      <td>154986111</td>\n",
       "      <td>154986204</td>\n",
       "      <td>0</td>\n",
       "      <td>enh</td>\n",
       "      <td>H3K4me3</td>\n",
       "    </tr>\n",
       "    <tr>\n",
       "      <th>535337</th>\n",
       "      <td>chrX</td>\n",
       "      <td>154995773</td>\n",
       "      <td>154995823</td>\n",
       "      <td>4</td>\n",
       "      <td>enh</td>\n",
       "      <td>H3K4me3</td>\n",
       "    </tr>\n",
       "    <tr>\n",
       "      <th>535338</th>\n",
       "      <td>chrX</td>\n",
       "      <td>154995877</td>\n",
       "      <td>154995936</td>\n",
       "      <td>1</td>\n",
       "      <td>enh</td>\n",
       "      <td>H3K4me3</td>\n",
       "    </tr>\n",
       "    <tr>\n",
       "      <th>535339</th>\n",
       "      <td>chrX</td>\n",
       "      <td>154995944</td>\n",
       "      <td>154995998</td>\n",
       "      <td>4</td>\n",
       "      <td>enh</td>\n",
       "      <td>H3K4me3</td>\n",
       "    </tr>\n",
       "  </tbody>\n",
       "</table>\n",
       "<p>1172150 rows × 6 columns</p>\n",
       "</div>"
      ],
      "text/plain": [
       "         chr      start        end  reads  elem     mark\n",
       "0       chr1   66999324   67000324     24  prom  H3K4me1\n",
       "1       chr1   16766666   16767666     23  prom  H3K4me1\n",
       "2       chr1   25071259   25072259     14  prom  H3K4me1\n",
       "3       chr1   16766666   16767666     23  prom  H3K4me1\n",
       "4       chr1   33546213   33547213     32  prom  H3K4me1\n",
       "...      ...        ...        ...    ...   ...      ...\n",
       "535335  chrX  154985971  154986037      1   enh  H3K4me3\n",
       "535336  chrX  154986111  154986204      0   enh  H3K4me3\n",
       "535337  chrX  154995773  154995823      4   enh  H3K4me3\n",
       "535338  chrX  154995877  154995936      1   enh  H3K4me3\n",
       "535339  chrX  154995944  154995998      4   enh  H3K4me3\n",
       "\n",
       "[1172150 rows x 6 columns]"
      ]
     },
     "metadata": {},
     "output_type": "display_data"
    }
   ],
   "source": [
    "E082 = pd.concat([E082_prom_K4me1, E082_enh_K4me1, E082_prom_K4me3, E082_enh_K4me3])\n",
    "display(E082)"
   ]
  },
  {
   "cell_type": "markdown",
   "metadata": {},
   "source": [
    "Make a boxplot of H3K4me1 and H3K4me3 in promoters and enhancers\n"
   ]
  },
  {
   "cell_type": "code",
   "execution_count": null,
   "metadata": {},
   "outputs": [
    {
     "data": {
      "text/plain": [
       "<AxesSubplot:xlabel='elem', ylabel='reads'>"
      ]
     },
     "execution_count": 6,
     "metadata": {},
     "output_type": "execute_result"
    },
    {
     "data": {
      "image/png": "[encoded data removed]",
      "text/plain": [
       "<Figure size 432x288 with 1 Axes>"
      ]
     },
     "metadata": {
      "needs_background": "light"
     },
     "output_type": "display_data"
    }
   ],
   "source": [
    "sns.boxplot(data = E082, # data being plotted is in the dataframe E082\n",
    "            x = 'elem', # on the x-axis, the boxes in the boxplot are grouped by the column 'elem'\n",
    "            y = 'reads', # the values being plotted on the y-axis is in the column 'reads' \n",
    "            hue = \"mark\",) # the boxes are colored based on the column 'mark' in the dataframe"
   ]
  },
  {
   "cell_type": "markdown",
   "metadata": {},
   "source": [
    "Note how the synthax for `boxplot` is assembled: \n",
    "\n",
    "* Use the column with name `elem` as a grouping of boxes along the x-axis\n",
    "* Use the column with name `reads` as the value to plot along the y-axis\n",
    "* Use the column with name `mark` to differentially color the boxes\n",
    "\n",
    "Make sure you understand how this works.\n",
    "\n",
    "\n",
    "\n",
    "There are lots of outliers (dots stacked on top of each box/whisker) which do not contribute much to the plot\n",
    "\n",
    "It is probably better to not plot the outliers "
   ]
  },
  {
   "cell_type": "code",
   "execution_count": 7,
   "metadata": {},
   "outputs": [
    {
     "data": {
      "text/plain": [
       "<AxesSubplot:xlabel='elem', ylabel='reads'>"
      ]
     },
     "execution_count": 7,
     "metadata": {},
     "output_type": "execute_result"
    },
    {
     "data": {
      "image/png": "[encoded data removed]",
      "text/plain": [
       "<Figure size 432x288 with 1 Axes>"
      ]
     },
     "metadata": {
      "needs_background": "light"
     },
     "output_type": "display_data"
    }
   ],
   "source": [
    "sns.boxplot(data = E082, \n",
    "            x = \"elem\", y = \"reads\", hue = \"mark\", \n",
    "            fliersize = 0)\n"
   ]
  },
  {
   "cell_type": "markdown",
   "metadata": {},
   "source": [
    "This is better already, but the boxplots are all at the bottom of the graph, this does not help much for clarity.\n",
    "\n",
    "If you do a **data transformation**, the plot may look better.\n",
    "\n",
    "For readcounts (integers ranging from 0 up to ...) a squareroot transformation can work well since it handles zeros well (log-transformation does not handle the zeros).\n",
    "\n",
    "Repeat the boxplot on the transformed data."
   ]
  },
  {
   "cell_type": "code",
   "execution_count": null,
   "metadata": {},
   "outputs": [
    {
     "data": {
      "text/plain": [
       "<AxesSubplot:xlabel='elem', ylabel='reads_sqrt'>"
      ]
     },
     "execution_count": 8,
     "metadata": {},
     "output_type": "execute_result"
    },
    {
     "data": {
      "image/png": "[encoded data removed]",
      "text/plain": [
       "<Figure size 432x288 with 1 Axes>"
      ]
     },
     "metadata": {
      "needs_background": "light"
     },
     "output_type": "display_data"
    }
   ],
   "source": [
    "E082['reads_sqrt'] = np.sqrt(E082['reads'])\n",
    "sns.boxplot(data=E082, \n",
    "            x=\"elem\", y=\"reads_sqrt\", hue=\"mark\", \n",
    "            fliersize=0)\n"
   ]
  },
  {
   "cell_type": "markdown",
   "metadata": {},
   "source": [
    "Knowing that the regions in the DataFrame are not of the same length, we may need to correct the transformed readcounts for the length of the regions\n"
   ]
  },
  {
   "cell_type": "code",
   "execution_count": null,
   "metadata": {},
   "outputs": [
    {
     "data": {
      "text/plain": [
       "<AxesSubplot:xlabel='elem', ylabel='reads_sqrt_bp'>"
      ]
     },
     "execution_count": 9,
     "metadata": {},
     "output_type": "execute_result"
    },
    {
     "data": {
      "image/png": "[encoded data removed]",
      "text/plain": [
       "<Figure size 432x288 with 1 Axes>"
      ]
     },
     "metadata": {
      "needs_background": "light"
     },
     "output_type": "display_data"
    }
   ],
   "source": [
    "E082['reads_sqrt_bp'] = E082['reads_sqrt']/(E082['end']-E082['start'])\n",
    "\n",
    "sns.boxplot(data=E082, \n",
    "            x=\"elem\", y=\"reads_sqrt_bp\", hue=\"mark\", \n",
    "            fliersize=0)\n"
   ]
  },
  {
   "cell_type": "markdown",
   "metadata": {},
   "source": [
    "This is definitely better, but the plot may even better if we adapt the y-axis scale\n"
   ]
  },
  {
   "cell_type": "code",
   "execution_count": null,
   "metadata": {},
   "outputs": [
    {
     "data": {
      "text/plain": [
       "<AxesSubplot:xlabel='elem', ylabel='reads_sqrt_bp'>"
      ]
     },
     "execution_count": 10,
     "metadata": {},
     "output_type": "execute_result"
    },
    {
     "data": {
      "image/png": "[encoded data removed]",
      "text/plain": [
       "<Figure size 432x288 with 1 Axes>"
      ]
     },
     "metadata": {
      "needs_background": "light"
     },
     "output_type": "display_data"
    }
   ],
   "source": [
    "plt.ylim(0,0.05)\n",
    "sns.boxplot(data=E082, \n",
    "            x=\"elem\", y=\"reads_sqrt_bp\", hue=\"mark\", \n",
    "            fliersize=0)\n"
   ]
  },
  {
   "cell_type": "markdown",
   "metadata": {},
   "source": [
    "Great, this is a nice boxplot.\n",
    "\n",
    "What can you conclude for H3K4me3 and H3K4me1 in promoters and enhancers?\n",
    "\n",
    "\n",
    "## H3K4me1 and H3K4me3 marking in promoters and enhancers: Fetal Brain-specific enhancers only\n",
    "\n",
    "In the previous section we used all enhancers that were called in Fetal Brain (male and Female) and Fetal Heart, but maybe we should include only those enhancers that were really called as an enhancer in E082 (Fetal Brain Female)\n",
    "\n",
    "This information is in the file `regions_enh_E081_E082_E083.bed`, which you find in the `/content/gdrive/MyDrive/CFB_files/visual` directory.\n",
    "\n",
    "This file has the same order as all files above that are called  `regions_enh_E081_E082_E083__xxxxx`.\n",
    "\n",
    "Read the file into a pandas DataFrame.\n"
   ]
  },
  {
   "cell_type": "code",
   "execution_count": null,
   "metadata": {},
   "outputs": [],
   "source": [
    "file_path = DATA_DIR + '/' + 'regions_enh_E081_E082_E083.bed.gz'\n",
    "enh = pd.read_csv(file_path,\n",
    "                  sep=\"\\t\",\n",
    "                  names=['chr', 'start', 'end', 'celltype'])\n"
   ]
  },
  {
   "cell_type": "markdown",
   "metadata": {},
   "source": [
    "Do a head to see what the file looks like.\n",
    "\n",
    "To select all the regions that are called as enhancer in E082, we will create a **boolean** that consists of `True` / `False` indicating which line (=region, =enhancer) in the `enh` DataFrame refers to an enhancer in E082.\n",
    "\n"
   ]
  },
  {
   "cell_type": "code",
   "execution_count": 13,
   "metadata": {},
   "outputs": [],
   "source": [
    "cond = enh['celltype'].str.contains('E082')\n"
   ]
  },
  {
   "cell_type": "markdown",
   "metadata": {},
   "source": [
    "Remember that the order of the `enh` DataFrame was the same as for all enhancer DataFrames.\n",
    "\n",
    "Now we take the individual enhancer DataFrames for E082 (not the concatenated one) and select from those only the E082-specific enhancer regions\n"
   ]
  },
  {
   "cell_type": "code",
   "execution_count": 14,
   "metadata": {},
   "outputs": [],
   "source": [
    "E082_enh_K4me1_spec = E082_enh_K4me1[cond]\n",
    "E082_enh_K4me3_spec = E082_enh_K4me3[cond]\n"
   ]
  },
  {
   "cell_type": "markdown",
   "metadata": {},
   "source": [
    "Now that we have selected the E082-specific enhancers only, we can concatenate the DataFrames like we did above\n"
   ]
  },
  {
   "cell_type": "code",
   "execution_count": 15,
   "metadata": {},
   "outputs": [],
   "source": [
    "E082_spec = pd.concat([E082_prom_K4me1, E082_enh_K4me1_spec, E082_prom_K4me3, E082_enh_K4me3_spec])\n"
   ]
  },
  {
   "cell_type": "markdown",
   "metadata": {},
   "source": [
    "Like above, we do the sqrt transformation and length-correction\n"
   ]
  },
  {
   "cell_type": "code",
   "execution_count": 16,
   "metadata": {},
   "outputs": [],
   "source": [
    "E082_spec['reads_sqrt'] = np.sqrt(E082_spec['reads'])\n",
    "E082_spec['reads_sqrt_bp'] = E082_spec['reads_sqrt']/(E082_spec['end']-E082_spec['start'])\n"
   ]
  },
  {
   "cell_type": "markdown",
   "metadata": {},
   "source": [
    "We can now make the boxplot as we did above\n"
   ]
  },
  {
   "cell_type": "code",
   "execution_count": 17,
   "metadata": {},
   "outputs": [
    {
     "data": {
      "text/plain": [
       "<AxesSubplot:xlabel='elem', ylabel='reads_sqrt_bp'>"
      ]
     },
     "execution_count": 17,
     "metadata": {},
     "output_type": "execute_result"
    },
    {
     "data": {
      "image/png": "[encoded data removed]",
      "text/plain": [
       "<Figure size 432x288 with 1 Axes>"
      ]
     },
     "metadata": {
      "needs_background": "light"
     },
     "output_type": "display_data"
    }
   ],
   "source": [
    "plt.ylim(0,0.05)\n",
    "sns.boxplot(data=E082_spec, \n",
    "            x=\"elem\", y=\"reads_sqrt_bp\", hue=\"mark\", fliersize=0)\n"
   ]
  },
  {
   "cell_type": "markdown",
   "metadata": {},
   "source": [
    "Do you see a difference with the boxplot above?\n",
    "\n",
    "Does this make sense (H3K4me is a typical enhancer mark) ?\n",
    "\n",
    "\n",
    "## Enhancer marking in different cell types\n",
    "\n",
    "Now let us look at H3K4me1 data only, in enhancers only, but in different cell types\n",
    "\n",
    "We will add data from a different cell type, E081 (Fetal Brain Male), E082 (Fetal Brain Female) and E083 (Fetal Heart)\n",
    "\n",
    "First, read in the data into a pandas DataFrame again\n"
   ]
  },
  {
   "cell_type": "code",
   "execution_count": 19,
   "metadata": {},
   "outputs": [],
   "source": [
    "E081_enh_K4me1 = pd.read_csv(DATA_DIR + '/' + 'regions_enh_E081_E082_E083__E081-H3K4me1.counts.gz',\n",
    "                             sep=\"\\t\", \n",
    "                             names=['chr', 'start', 'end', 'reads'])\n",
    "E082_enh_K4me1 = pd.read_csv(DATA_DIR + '/' + 'regions_enh_E081_E082_E083__E082-H3K4me1.counts.gz',\n",
    "                             sep=\"\\t\", \n",
    "                             names=['chr', 'start', 'end', 'reads'])\n",
    "E083_enh_K4me1 = pd.read_csv(DATA_DIR + '/' + 'regions_enh_E081_E082_E083__E083-H3K4me1.counts.gz',\n",
    "                             sep=\"\\t\", \n",
    "                             names=['chr', 'start', 'end', 'reads'])"
   ]
  },
  {
   "cell_type": "markdown",
   "metadata": {},
   "source": [
    "In each DataFrame, annotate from which celltype the data comes in a column called `celltype`. \n",
    "\n"
   ]
  },
  {
   "cell_type": "code",
   "execution_count": 20,
   "metadata": {},
   "outputs": [],
   "source": [
    "E081_enh_K4me1['celltype'] = \"E081\"\n",
    "E082_enh_K4me1['celltype'] = \"E082\"\n",
    "E083_enh_K4me1['celltype'] = \"E083\""
   ]
  },
  {
   "cell_type": "markdown",
   "metadata": {},
   "source": [
    "In each DataFrame, annotate the enhancers that were called for each cell type.\n",
    "\n",
    "We create a column called `enh` which denotes whether a region was called as enhancer in E081, E082, or E083.\n",
    "\n",
    "This data we take from the DataFrame `enh`, from which we know that the order is the same as in our DataFrames.\n"
   ]
  },
  {
   "cell_type": "code",
   "execution_count": 21,
   "metadata": {},
   "outputs": [],
   "source": [
    "E081_enh_K4me1['enh'] = enh['celltype']\n",
    "E082_enh_K4me1['enh'] = enh['celltype']\n",
    "E083_enh_K4me1['enh'] = enh['celltype']"
   ]
  },
  {
   "cell_type": "markdown",
   "metadata": {},
   "source": [
    "Like above, we make a concatenated DataFrame `m` using `concat`.\n"
   ]
  },
  {
   "cell_type": "code",
   "execution_count": 22,
   "metadata": {},
   "outputs": [],
   "source": [
    "m = pd.concat([E081_enh_K4me1, E082_enh_K4me1, E083_enh_K4me1])\n"
   ]
  },
  {
   "cell_type": "markdown",
   "metadata": {},
   "source": [
    "Like above, we transform the readcounts using `sqrt`, and correct for region length.\n"
   ]
  },
  {
   "cell_type": "code",
   "execution_count": 23,
   "metadata": {},
   "outputs": [],
   "source": [
    "m['reads_sqrt'] = np.sqrt(m['reads'])\n",
    "m['reads_sqrt_bp'] = m['reads_sqrt']/(m['end']-m['start'])"
   ]
  },
  {
   "cell_type": "markdown",
   "metadata": {},
   "source": [
    "Now we can make the boxplot.\n",
    "\n",
    "Note that we add an extra argument called `hue` which colors the boxplot according the information in the column called `enh`.\n"
   ]
  },
  {
   "cell_type": "code",
   "execution_count": 24,
   "metadata": {},
   "outputs": [
    {
     "data": {
      "text/plain": [
       "(0.0, 0.08)"
      ]
     },
     "execution_count": 24,
     "metadata": {},
     "output_type": "execute_result"
    },
    {
     "data": {
      "image/png": "[encoded data removed]",
      "text/plain": [
       "<Figure size 432x288 with 1 Axes>"
      ]
     },
     "metadata": {
      "needs_background": "light"
     },
     "output_type": "display_data"
    }
   ],
   "source": [
    "sns.boxplot(data=m, \n",
    "            x=\"celltype\", y=\"reads_sqrt_bp\", hue=\"enh\", \n",
    "            fliersize=0)\n",
    "\n",
    "# Move legend outside the plot\n",
    "plt.legend(bbox_to_anchor=(1, 1), loc=2)\n",
    "\n",
    "# Adapt the y-axis\n",
    "plt.ylim(0, 0.08)"
   ]
  },
  {
   "cell_type": "markdown",
   "metadata": {},
   "source": [
    "Carefully look at the boxplot\n",
    "\n",
    "Does this make sense?\n",
    "\n",
    "\n",
    "## Promoter marking vs. gene expression\n",
    "\n",
    "You are going to plot the gene expression (RNA-seq, so RPKM) as a function of the active promoter mark H3K4me3 at the corresponding genes, for E082.\n",
    "\n",
    "For this you need the file `hg19_RefSeq_TSS500_ENSEMBL_RPKM` from the `/content/gdrive/MyDrive/CFB_files/visual` directory.\n",
    "\n",
    "This file has the same ordering as all files named `hg19_RefSeq_TSS500__xxxxx`.\n",
    "\n",
    "First, read in the expression data into a pandas DataFrame."
   ]
  },
  {
   "cell_type": "code",
   "execution_count": 25,
   "metadata": {},
   "outputs": [],
   "source": [
    "rpkm = pd.read_csv(DATA_DIR + '/' + 'hg19_RefSeq_TSS500_ENSEMBL_RPKM.gz', sep=\"\\t\")\n"
   ]
  },
  {
   "cell_type": "markdown",
   "metadata": {},
   "source": [
    "Check with a `head()` what this file looks like. Note that we did not specify column names, since these are already present in the file. `read_csv by default assumes that this first line is a header line\n",
    "\n",
    "Note that `head()` does not show you all columns, so you can use the following to see all column names\n"
   ]
  },
  {
   "cell_type": "code",
   "execution_count": 26,
   "metadata": {},
   "outputs": [
    {
     "data": {
      "text/plain": [
       "Index(['chr', 'start', 'end', 'refseq', 'gene', 'strand', 'ensembl', 'E000',\n",
       "       'E003', 'E004', 'E005', 'E006', 'E007', 'E011', 'E012', 'E013', 'E016',\n",
       "       'E024', 'E027', 'E028', 'E037', 'E038', 'E047', 'E050', 'E053', 'E054',\n",
       "       'E055', 'E056', 'E057', 'E058', 'E059', 'E061', 'E062', 'E065', 'E066',\n",
       "       'E070', 'E071', 'E079', 'E082', 'E084', 'E085', 'E087', 'E094', 'E095',\n",
       "       'E096', 'E097', 'E098', 'E100', 'E104', 'E105', 'E106', 'E109', 'E112',\n",
       "       'E113', 'E114', 'E116', 'E117', 'E118', 'E119', 'E120', 'E122', 'E123',\n",
       "       'E127', 'E128'],\n",
       "      dtype='object')"
      ]
     },
     "execution_count": 26,
     "metadata": {},
     "output_type": "execute_result"
    }
   ],
   "source": [
    "rpkm.columns\n"
   ]
  },
  {
   "cell_type": "markdown",
   "metadata": {},
   "source": [
    "The DataFrame `rpkm` has many columns, you need to paste the column called `E082` to a DataFrame called `E082_prom_K4me3`"
   ]
  },
  {
   "cell_type": "code",
   "execution_count": 27,
   "metadata": {},
   "outputs": [],
   "source": [
    "E082_prom_K4me3 = pd.read_csv(DATA_DIR + '/' + 'hg19_RefSeq_TSS500__E082-H3K4me3.counts.gz',\n",
    "                              sep=\"\\t\",\n",
    "                              names=['chr', 'start', 'end', 'reads'])"
   ]
  },
  {
   "cell_type": "markdown",
   "metadata": {},
   "source": [
    "Like above, do the sqrt transformation on the H3K4me3 readcounts.\n"
   ]
  },
  {
   "cell_type": "code",
   "execution_count": 28,
   "metadata": {},
   "outputs": [],
   "source": [
    "E082_prom_K4me3['reads_sqrt'] = np.sqrt(E082_prom_K4me3['reads'])\n"
   ]
  },
  {
   "cell_type": "markdown",
   "metadata": {},
   "source": [
    "In this case there is no need to normalize for region length since all promoters here have the same length. However if you do normalize, it does not matter\n",
    "\n",
    "\n",
    "Since the order of the regions (=lines) in the `rpkm` DataFrame is the same as in the `E082_prom_K4me3` DataFrame, we can paste the RPKM column `E082` from the `rpkm` DataFrame into the `E082_prom_K4me3` DataFrame.\n"
   ]
  },
  {
   "cell_type": "code",
   "execution_count": 29,
   "metadata": {},
   "outputs": [],
   "source": [
    "E082_prom_K4me3['rpkm'] = rpkm['E082']\n"
   ]
  },
  {
   "cell_type": "markdown",
   "metadata": {},
   "source": [
    "Now we can make a scatterplot, in which each dot represent a promoter and the RPKM of the corresponding gene.\n",
    "\n",
    "We use the function `lmplot()` from seaborn.\n"
   ]
  },
  {
   "cell_type": "code",
   "execution_count": 30,
   "metadata": {},
   "outputs": [
    {
     "data": {
      "text/plain": [
       "<seaborn.axisgrid.FacetGrid at 0x17dccc85280>"
      ]
     },
     "execution_count": 30,
     "metadata": {},
     "output_type": "execute_result"
    },
    {
     "data": {
      "image/png": "[encoded data removed]",
      "text/plain": [
       "<Figure size 360x360 with 1 Axes>"
      ]
     },
     "metadata": {
      "needs_background": "light"
     },
     "output_type": "display_data"
    }
   ],
   "source": [
    "sns.lmplot(data=E082_prom_K4me3, \n",
    "           x='reads_sqrt', y='rpkm', \n",
    "           fit_reg=False)\n"
   ]
  },
  {
   "cell_type": "markdown",
   "metadata": {},
   "source": [
    "Note that `lmplot()` by default plots a regression line, which you can turn off by `fit_reg=False`.\n",
    "\n",
    "Looking at the plot, we can see that most of the data points are at the bottom of the graph, and we cannot see whether there is any correlation.\n",
    "\n",
    "For gene expression it is usually good to plot it in log-scale. We can perform log-transformation using `np.log2`:\n",
    "\n",
    "```python\n",
    "E082_prom_K4me3['rpkm_log'] = np.log2(E082_prom_K4me3['rpkm'])\n",
    "```\n",
    "\n",
    "Note that in this case we choose the log2, but a log10 would be fine as well."
   ]
  },
  {
   "cell_type": "code",
   "execution_count": null,
   "metadata": {
    "tags": [
     "remove-cell"
    ]
   },
   "outputs": [],
   "source": [
    "E082_prom_K4me3['rpkm_log'] = np.log2(E082_prom_K4me3['rpkm'])"
   ]
  },
  {
   "cell_type": "markdown",
   "metadata": {},
   "source": [
    "Now we can make an updated scatter plot"
   ]
  },
  {
   "cell_type": "code",
   "execution_count": null,
   "metadata": {},
   "outputs": [
    {
     "name": "stderr",
     "output_type": "stream",
     "text": [
      "c:\\Users\\Rosemary Yu\\miniconda3\\envs\\testing\\lib\\site-packages\\pandas\\core\\arraylike.py:364: RuntimeWarning: divide by zero encountered in log2\n",
      "  result = getattr(ufunc, method)(*inputs, **kwargs)\n"
     ]
    },
    {
     "data": {
      "text/plain": [
       "<seaborn.axisgrid.FacetGrid at 0x17dccc85a00>"
      ]
     },
     "execution_count": 31,
     "metadata": {},
     "output_type": "execute_result"
    },
    {
     "data": {
      "image/png": "[encoded data removed]",
      "text/plain": [
       "<Figure size 360x360 with 1 Axes>"
      ]
     },
     "metadata": {
      "needs_background": "light"
     },
     "output_type": "display_data"
    }
   ],
   "source": [
    "sns.lmplot(data=E082_prom_K4me3, \n",
    "           x='reads_sqrt', y='rpkm_log', \n",
    "           fit_reg=False)\n"
   ]
  },
  {
   "cell_type": "markdown",
   "metadata": {},
   "source": [
    "This looks much better.\n",
    "\n",
    "Although the relationship is not clear-cut, there is definitely a trend of higher expression for genes which promoters have higher H3K4me3.\n",
    "\n",
    "We can think about a control for this analysis.\n",
    "\n",
    "To check whether the observed trend has some biological meaning, we can plot the same gene expression from **E082** as a function of H3K4me3 in **E083** (the 'wrong' celltype).\n",
    "\n",
    "The expectation is that the trend you observed above is less clear here.\n",
    "\n",
    "Read the promoter H3K4me3 data into a pandas DataFrame as we did above\n"
   ]
  },
  {
   "cell_type": "code",
   "execution_count": 32,
   "metadata": {},
   "outputs": [],
   "source": [
    "E083_prom_K4me3 = pd.read_csv(DATA_DIR + '/' + 'hg19_RefSeq_TSS500__E083-H3K4me3.counts.gz',\n",
    "                                sep=\"\\t\", names=['chr', 'start', 'end', 'reads'])"
   ]
  },
  {
   "cell_type": "markdown",
   "metadata": {},
   "source": [
    "Do the sqrt transformation of the H3K4me3 readcounts, as above.\n",
    "\n",
    "Paste the RPKMs into the H3K4me3 DataFrame of E083, as above.\n",
    "\n",
    "Do the RPKM log2 transformation, as above."
   ]
  },
  {
   "cell_type": "code",
   "execution_count": 33,
   "metadata": {},
   "outputs": [
    {
     "name": "stderr",
     "output_type": "stream",
     "text": [
      "c:\\Users\\Rosemary Yu\\miniconda3\\envs\\testing\\lib\\site-packages\\pandas\\core\\arraylike.py:364: RuntimeWarning: divide by zero encountered in log2\n",
      "  result = getattr(ufunc, method)(*inputs, **kwargs)\n"
     ]
    }
   ],
   "source": [
    "E083_prom_K4me3['reads_sqrt'] = np.sqrt(E083_prom_K4me3['reads'])\n",
    "E083_prom_K4me3['rpkm'] = rpkm['E082']\n",
    "E083_prom_K4me3['rpkm_log'] = np.log2(E083_prom_K4me3['rpkm'])"
   ]
  },
  {
   "cell_type": "markdown",
   "metadata": {},
   "source": [
    "And then the scatterplot.\n"
   ]
  },
  {
   "cell_type": "code",
   "execution_count": 34,
   "metadata": {},
   "outputs": [
    {
     "data": {
      "text/plain": [
       "<seaborn.axisgrid.FacetGrid at 0x17dcc40c340>"
      ]
     },
     "execution_count": 34,
     "metadata": {},
     "output_type": "execute_result"
    },
    {
     "data": {
      "image/png": "[encoded data removed]",
      "text/plain": [
       "<Figure size 360x360 with 1 Axes>"
      ]
     },
     "metadata": {
      "needs_background": "light"
     },
     "output_type": "display_data"
    }
   ],
   "source": [
    "sns.lmplot(data=E083_prom_K4me3, \n",
    "           x='reads_sqrt', y='rpkm_log', \n",
    "           fit_reg=False)\n"
   ]
  },
  {
   "cell_type": "markdown",
   "metadata": {},
   "source": [
    "As an alternative to the scatterplot approach above, we can classify our H3K4me3 levels into 'high' or 'low'. But, what is 'high' and what is 'low'? Where should we put the threshold for 'high'?\n",
    "\n",
    "To get an idea, we can plot the distribution of the H3K4me3 signal using a histogram. For this we use the `displot` function from seaborn.\n"
   ]
  },
  {
   "cell_type": "code",
   "execution_count": 35,
   "metadata": {},
   "outputs": [
    {
     "data": {
      "text/plain": [
       "<seaborn.axisgrid.FacetGrid at 0x17dd0d2a670>"
      ]
     },
     "execution_count": 35,
     "metadata": {},
     "output_type": "execute_result"
    },
    {
     "data": {
      "image/png": "[encoded data removed]",
      "text/plain": [
       "<Figure size 360x360 with 1 Axes>"
      ]
     },
     "metadata": {
      "needs_background": "light"
     },
     "output_type": "display_data"
    }
   ],
   "source": [
    "sns.displot(E082_prom_K4me3['reads_sqrt'])"
   ]
  },
  {
   "cell_type": "markdown",
   "metadata": {},
   "source": [
    "By looking at this histogram, we could conclude that the regions with 'high' H3K4me3 are the ones that roughly have signals higher than 10 or so.\n",
    "\n",
    "To assign 'high' and 'low' to H3K4me3 levels we add a column to the E082 DataFrame called `reads_sqrt_bin`.\n",
    "\n",
    "For this we use the `where` function from numpy, in which we state: if the values in column x are higher than 10, return \"high H3K4me3\", else, return \"low H3K4me3\".\n"
   ]
  },
  {
   "cell_type": "code",
   "execution_count": 36,
   "metadata": {},
   "outputs": [],
   "source": [
    "E082_prom_K4me3['reads_sqrt_bin'] = np.where(E082_prom_K4me3['reads_sqrt'] > 10, \"high K4me3\", \"low K4me3\")\n"
   ]
  },
  {
   "cell_type": "markdown",
   "metadata": {},
   "source": [
    "Do a `head()` on the DataFrame to see what happened.\n",
    "\n",
    "Now we can use a boxplot instead of a scatterplot.\n",
    "\n",
    "In this boxplot the RPKM is plotted in boxes, as a function of \"high K4me3\" or \"low K4me3\".\n"
   ]
  },
  {
   "cell_type": "code",
   "execution_count": 37,
   "metadata": {},
   "outputs": [
    {
     "data": {
      "text/plain": [
       "<AxesSubplot:xlabel='reads_sqrt_bin', ylabel='rpkm_log'>"
      ]
     },
     "execution_count": 37,
     "metadata": {},
     "output_type": "execute_result"
    },
    {
     "data": {
      "image/png": "[encoded data removed]",
      "text/plain": [
       "<Figure size 432x288 with 1 Axes>"
      ]
     },
     "metadata": {
      "needs_background": "light"
     },
     "output_type": "display_data"
    }
   ],
   "source": [
    "sns.boxplot(data=E082_prom_K4me3, \n",
    "            x=\"reads_sqrt_bin\", y=\"rpkm_log\", \n",
    "            fliersize=0)\n"
   ]
  },
  {
   "cell_type": "markdown",
   "metadata": {},
   "source": [
    "In this plot it is already much more clear that gener with high H3K4me3 at the promoter have higher expression.\n",
    "\n",
    "Rather than assigning two \"bins\" (\"high\" and \"low\") by ourselves, we can specify multiple bins.\n",
    "\n",
    "For this we use the `cut` method of pandas, for which we can specify the number of bins we want.\n"
   ]
  },
  {
   "cell_type": "code",
   "execution_count": 38,
   "metadata": {},
   "outputs": [],
   "source": [
    "E082_prom_K4me3['reads_sqrt_bin'] = pd.cut(E082_prom_K4me3['reads_sqrt'], 3, labels=False)\n"
   ]
  },
  {
   "cell_type": "markdown",
   "metadata": {},
   "source": [
    "Note that we used `labels=False`, which causes the bins to be numbered.\n",
    "\n",
    "We can now make a similar boxplot as above, with the RPKM plotted in boxes, as a function of the different bins we created.\n"
   ]
  },
  {
   "cell_type": "code",
   "execution_count": 39,
   "metadata": {},
   "outputs": [
    {
     "data": {
      "text/plain": [
       "<AxesSubplot:xlabel='reads_sqrt_bin', ylabel='rpkm_log'>"
      ]
     },
     "execution_count": 39,
     "metadata": {},
     "output_type": "execute_result"
    },
    {
     "data": {
      "image/png": "[encoded data removed]",
      "text/plain": [
       "<Figure size 432x288 with 1 Axes>"
      ]
     },
     "metadata": {
      "needs_background": "light"
     },
     "output_type": "display_data"
    }
   ],
   "source": [
    "sns.boxplot(data=E082_prom_K4me3, \n",
    "            x=\"reads_sqrt_bin\", y=\"rpkm_log\", \n",
    "            fliersize=0)\n"
   ]
  },
  {
   "cell_type": "markdown",
   "metadata": {},
   "source": [
    "## Exercise\n",
    "\n",
    "**Exercise: Visualization using pandas and seaborn**\n",
    "\n",
    "In this exercise you are going to compare the different ChIP-seq and DNase-seq datasets from \n",
    "\n",
    "* E081: Fetal Brain Male\n",
    "* E082: Fetal Brain Female\n",
    "* E083: Fetal Heart\n",
    "\n",
    "The final goal is to see **how these marks correlate**, and **how these marks classify the different cell types**.\n",
    "You will visualize this in a **heatmap** that shows **pairwise correlations**, and clusters the datasets that are most similar.  \n",
    "\n",
    "To get to this, the exercise is divided into different questions that will lead you through the exercise.\n",
    "By the way, for help you are allowed (=encouraged) to use Google as well!\n",
    "\n",
    "**Exercise outline**\n",
    "\n",
    "The strategy is outlined here, a detailed description follows after this:\n",
    "\n",
    "* Make a dictionary with pandas DataFrames, so that object names can be used to access the DataFrames\n",
    "    * Q1. Create a function to read files into pandas DataFrames\n",
    "    * Q2. Create lists with filenames and their corresponding object names\n",
    "    * Q3. Create the dictionary with DataFrames\n",
    "* Q4. Make one merged DataFrame containing the readcounts as columns, one for each datasets.\n",
    "* Q5. Make a DataFrame with all pairwise correlations\n",
    "* Q6. Plot the heatmap of pairwise correlations\n",
    "\n",
    "**Question 1. Function for reading a file into a pandas DataFrame**\n",
    "\n",
    "Please mount Google Drive, and navigate to the directory `/content/gdrive/MyDrive/CFB_files/visual`. First, familiarize yourself with the files contained in this directory. \n",
    "\n",
    "For Question 1, write a function that:\n",
    "\n",
    "* uses a file path as input (e.g. `directory_name/file_name`), \n",
    "* returns the corresponding pandas DataFrame\n",
    "* this should work for files with four columns, named 'chr', 'start', 'end', and 'reads'.\n",
    "\n",
    "As a test, suppose that your function is named `create_df`. You should then be able to run the following:\n",
    "\n",
    "```python\n",
    "dir_name = \"/content/gdrive/MyDrive/CFB_files/visual\" # this is the directory name\n",
    "file_name = \"hg19_RefSeq_TSS500__E081-DNase.counts.gz\" # this is the file name\n",
    "\n",
    "file_path = dir_name + '/' + file_name # together, this is the file path\n",
    "\n",
    "my_df = create_df(file_path)\n",
    "my_df.head()\n",
    "```\n",
    "\n",
    "**Question 2. Create lists with filenames and object names**\n",
    "\n",
    "The directory `/content/gdrive/MyDrive/CFB_files/visual` contains:\n",
    "\n",
    "* readcounts for promoters (`hg19_RefSeq_TSS500__xxxxx.counts.gz`)\n",
    "* readcounts for enhancers (`regions_enh_E081_E082_E083__xxxxx.counts.gz`)\n",
    "\n",
    "Create 4 lists: \n",
    "\n",
    "1. filenames (e.g. `dir_name/file_name`) for all promoter files with\n",
    "    * DNase\n",
    "    * H3K4me3\n",
    "    * H3K27me3\n",
    "\n",
    "2. filenames (e.g. `dir_name/file_name`) for all enhancer files with\n",
    "    * DNase\n",
    "    * H3K4me3\n",
    "    * H3K27me3\n",
    "3. object names for all promoter files of list 1. (e.g. `\"E082-H3K27me3\"`)\n",
    "4. object names for all enhancer files of list 2. (e.g. `\"E082-H3K4me3\"`)\n",
    "\n",
    "Note: these filenames should contain the full path to the file.\n",
    "\n",
    "Tip: A useful module here is the module `os`, which contains the function `listdir`. Try out the following code to understand what this function does. You can then adapt this code for your function for Question 2.\n",
    "\n",
    "```python\n",
    "\n",
    "import os\n",
    "\n",
    "dirname_ch_11 = \"/content/gdrive/MyDrive/CFB_files/visual\" \n",
    "files_all = os.listdir (dirname_ch_11)\n",
    "print(len(files_all))\n",
    "print(files_all[0])\n",
    "print(dirname_ch_11 + '/' + files_all[0])\n",
    "\n",
    "```\n",
    "\n",
    "**Question 3. Make a dictionary with DataFrames**\n",
    "\n",
    "Make a dictionary with DataFrames with\n",
    "\n",
    "* object names as **keys** (e.g. `\"E081-H3K4me3\"`, use the list with object names created above)\n",
    "* the corresponding pandas DataFrame as **values** (use the list with filenames created above) \n",
    "\n",
    "Make one such dictionary for promoters, and one dictionary for enhancers.\n",
    "\n",
    "**Question 4. Make a merged DataFrame with readcounts**\n",
    "\n",
    "Make a new pandas DataFrame in which the columns contain the readcounts from each DataFrame in your dictionary\n",
    "\n",
    "* one DataFrame for the promoters\n",
    "* one DataFrame for the enhancers \n",
    "\n",
    "To do this, you can use a loop over your dictionaries and create a new DataFrame column by column.\n",
    "\n",
    "\n",
    "**Question 5. Make a DataFrame with pairwise correlations**\n",
    "\n",
    "Make a pandas DataFrame containing the pairwise correlations between the different datasets\n",
    "\n",
    "* one DataFrame for the promoters\n",
    "* one DataFrame for the enhancers\n",
    "\n",
    "Hint: you can do this by using the `corr()` method for a pandas DataFrame\n",
    "\n",
    "\n",
    "**Question 6. Plot a heatmap displaying the pairwise correlations**\n",
    "\n",
    "Plot a heatmap that displays the correlation coefficients obtained in the DataFrame above.\n",
    "\n",
    "* Make one heatmap for the promoters\n",
    "* Make one heatmap for the enhancers\n",
    "\n",
    "Hint: you can do this by using the `clustermap()` function for a pandas DataFrame, which will not only draw the heatmap, but also cluster the heatmap\n",
    "\n",
    "\n",
    "Which of the two, promoters or enhancers, are best for classifying the different celltypes?"
   ]
  },
  {
   "cell_type": "code",
   "execution_count": null,
   "metadata": {},
   "outputs": [],
   "source": []
  }
 ],
 "metadata": {
  "celltoolbar": "Tags",
  "kernelspec": {
   "display_name": "testing",
   "language": "python",
   "name": "python3"
  },
  "language_info": {
   "codemirror_mode": {
    "name": "ipython",
    "version": 3
   },
   "file_extension": ".py",
   "mimetype": "text/x-python",
   "name": "python",
   "nbconvert_exporter": "python",
   "pygments_lexer": "ipython3",
   "version": "3.9.7"
  }
 },
 "nbformat": 4,
 "nbformat_minor": 4
}
