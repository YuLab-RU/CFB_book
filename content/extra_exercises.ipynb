{
 "cells": [
  {
   "cell_type": "markdown",
   "metadata": {},
   "source": [
    "# Assembling the pieces\n",
    "\n",
    "In this chapter, no new Python topics will be introduced. You will practice by writing functions that combine the different topics that we have covered.\n",
    "\n",
    "## Exercises"
   ]
  },
  {
   "cell_type": "markdown",
   "metadata": {},
   "source": [
    "**Exercise 8.1: Translation**\n",
    "\n",
    "Write a function `mrna2protein` that converts an mRNA sequence (using the A,C,G,T alphabet) into\n",
    "a protein sequence.\n",
    "You can use the codon table that was used in **exercise 5.9**."
   ]
  },
  {
   "cell_type": "code",
   "execution_count": 4,
   "metadata": {},
   "outputs": [],
   "source": [
    "def mrna2protein(seq):\n",
    "    # Adapt this function with your own code\n",
    "    \n",
    "    return prot"
   ]
  },
  {
   "cell_type": "markdown",
   "metadata": {},
   "source": [
    "**Exercise 8.2: Open reading frames**\n",
    " \n",
    "Write a function `longest_orfs` that will take a DNA sequence as input and returns the protein sequence encoded by\n",
    "the longest ORF for all three frames. The return value should be a dictionary, with the frame number as the key and the\n",
    "protein sequence as the value. This means that the dictionary will have three `key:value` pairs. The three keys are `1`,\n",
    " `2` and `3` and the corresponding values are the longest ORF for frame 1, the longest ORF for frame 2 and the longest ORF for frame 3.\n",
    "\n",
    "The stop codon (`*` in the amino acid table) should not be included in the translation of the ORF. For this exercise an open reading frame does not need to start with an ATG, it can start with any codon, except a stop codon.\n",
    "For example, take the sequence `\"actgcgtagagagctggagagattaggc\"`. The translation of the full sequence for frame 1 would look like this:\n",
    " \n",
    "```\n",
    "TA*RAGEIR\n",
    "```\n",
    "\n",
    "In this example, the longest ORF is `RAGEIR`.\n",
    "\n",
    "You can re-use code that you have written for **exercise 4.8** and **exercise 8.1**.\n"
   ]
  },
  {
   "cell_type": "code",
   "execution_count": null,
   "metadata": {},
   "outputs": [],
   "source": [
    "def longest_orfs(seq):\n",
    "    # Adapt this function with your own code\n",
    "    return orfs"
   ]
  },
  {
   "cell_type": "markdown",
   "metadata": {},
   "source": [
    "**Exercise 8.3: Hamming distance**\n",
    "\n",
    "Write a function called `hamming` that takes two strings `s` and `t` of equal length as arguments and computes the number of differences between them.\n",
    "The function should return the number of symbols that differ in `s` and `t`.\n"
   ]
  },
  {
   "cell_type": "code",
   "execution_count": 1,
   "metadata": {
    "tags": [
     "remove-output"
    ]
   },
   "outputs": [
    {
     "name": "stdout",
     "output_type": "stream",
     "text": [
      "0\n",
      "0\n",
      "0\n"
     ]
    }
   ],
   "source": [
    "def hamming(s, t):\n",
    "    # adapt this function with your own code\n",
    "    return 0\n",
    "\n",
    "print(hamming(\"ACTG\", \"ACTG\"))\n",
    "print(hamming(\"ACTG\", \"GTCA\"))\n",
    "print(hamming(\"AACC\", \"AATT\") + hamming(\"CTGA\", \"TCGA\"))"
   ]
  },
  {
   "cell_type": "markdown",
   "metadata": {},
   "source": [
    "If your function is defined correctly, the code above should exactly match the following output when run:\n",
    "\n",
    "    0\n",
    "    4\n",
    "    4\n",
    "\n",
    "**Exercise 8.4 Find exact motif matches**\n",
    "\n",
    "Given two strings `s` and `t`, `t` is a substring of `s` if `t`\n",
    "is contained as a contiguous collection of symbols in `s` (as a result,\n",
    "`t` must be no longer than `s`).\n",
    "Write a function called `find_match` that takes two arguments, `s` and `t`,\n",
    "and returns a `list` of all positions of the substring `t` in `s`."
   ]
  },
  {
   "cell_type": "code",
   "execution_count": 2,
   "metadata": {},
   "outputs": [],
   "source": [
    "# define your function here"
   ]
  },
  {
   "cell_type": "markdown",
   "metadata": {},
   "source": [
    "When you have finished the function run the code below:\n",
    "\n",
    "```python\n",
    "# Don't change anything here, but update the function definition above!\n",
    "print(find_match(\"GATATATGCATATACTT\", \"ATAT\"))\n",
    "print(find_match(\"AUGCUUCAGAAAGGUCUUACG\", \"U\"))\n",
    "```"
   ]
  },
  {
   "cell_type": "markdown",
   "metadata": {},
   "source": [
    "Instead of giving an error, the output above should *exactly* match the following:\n",
    "\n",
    "    [2, 4, 10] \n",
    "    [2, 5, 6, 15, 17, 18] \n"
   ]
  },
  {
   "cell_type": "markdown",
   "metadata": {},
   "source": [
    "**Exercise 8.5: Motif conversion**\n",
    "\n",
    "Write a function that converts a consensus sequence into a positional weight matrix.\n",
    "The consensus sequence can be composed of symbols from the [IUPAC DNA code](http://www.bioinformatics.org/sms2/iupac.html).\n",
    "The function should ignore any non-IUPAC character. The positional weight matrix should be a two-dimensional list.\n",
    "Every element in the first list is a list containing the relative frequencies of A, C, G and T, in that specific order, that together sum up to `1.0`.\n",
    "The function should work, regardless of the input being upper-case, lower-case or a mix.\n",
    "\n",
    "<details>\n",
    "<summary> If you are struggling with this exercise, click on the triangle to view tips. </summary>\n",
    "\n",
    "To do this exercise, you need to know what the IUPAC DNA code is, and what a positional weight matrix (PWM) is. These concepts are covered in lecture. Review the lecture materials before you move forward with this exedrcise.\n",
    "\n",
    "1. Let's take the following IUPAC consensus sequence: `TGASTCA`\n",
    "   \n",
    "   As you know, DNA contains only 4 nucleotides: A, C, G, and T. In the consensus sequence above, there is a letter \"S\". What does \"S\" mean? \n",
    "\n",
    "2. In the lecture, we covered 3 different ways to write a PWM in Python. Two of these are two-dimensional lists (also known as \"list of lists\"), and one is a dictionary. Go to the lecture slide with the three versions of PWMs. Which two PWMs are two-dimensional lists, and which one is a dictionary?\n",
    "3. Take the following PWM:\n",
    "   \n",
    "   ![](img/motif_pwm2.png)\n",
    "   \n",
    "   As you can see, the ordering of this PWM is not explicitly defined. What is the implicit/default ordering of PWMs written in this format?\n",
    "4. The IUPAC consensus sequence given in part 1, and the PWM given in part 3, contain the same information. Can you explain how?\n",
    "5. If you're given the IUPAC consensus sequence in part 1, what steps would you take to end up with the PWM in part 3? \n",
    "   \n",
    "   Take the IUPAC consensus sequence one letter at a time. For the first letter (T), you should end up with:\n",
    "\n",
    "   ![](img/motif_pwm2_b.png)\n",
    "\n",
    "6. (Optional!) Below is another way to write a PWM as a two-dimensional list. If you're given the IUPAC consensus sequence in part 1, what steps would you take to end up with the PWM below? Again, take the IUPAC consensus sequence one letter at a time.\n",
    "   \n",
    "   ![](img/motif_pwm2_c.png)\n",
    "\n",
    "7. Convert your answer to part 5 into a function. Can you come up with some additional IUPAC consensus sequences to test your code? Try to vary the length of the IUPAC consensus sequences, and make them in uppercase, lowercase, or a mix of both cases. Modify your function so that it can handle all of these cases. \n",
    "8. Go back and read the exercise carefully. To answer this exercise properly, there is one additional condition that your function should satisfy: it should ignore any non-IUPAC character. This is not a very specific requirement, so you can interpret this a few different ways. As an example, `J` is not an IUPAC DNA code. So if you have a test sequence `AAJTT`, then you can code any of the following (depending on your interpretation) and that would be alright:\n",
    "    * give an error message, e.g. \"this is not an IUPAC DNA code!\"\n",
    "    * literally just ignore that nucleotide, so give the PWM as if the sequence is `AATT`\n",
    "    * keep that nucleotide-position, but it would have 0% chance of being either A, C, G, or T, so give the PWM as if the sequence is `AA-0-TT`\n",
    "    * any other way that you interpret this would be fine, just code it so that Python does not throw an error.\n",
    "\n",
    "</details>\n",
    "\n",
    "<br/>\n"
   ]
  },
  {
   "cell_type": "markdown",
   "metadata": {},
   "source": [
    "**Exercise 8.6: Analysis of a regulatory network** \n",
    "\n",
    "For this question use the regulatory network represented in the following dictionary:\n",
    "\n",
    "```python\n",
    "hsc_network = {\n",
    "    \"Scl\" : [\"Scl\",\"Gata1\",\"Gata2\",\"Hhex\",\"Zfpm1\",\"Fli1\",\"Erg\",\"Smad6\",\"Runx1\",\"Eto2\"],\n",
    "    \"Pu.1\" : [\"Pu.1\",\"Runx1\",\"Gata1\"],\n",
    "    \"Runx1\" : [\"Runx1\",\"Pu.1\",\"Erg\"],\n",
    "    \"Smad6\" : [\"Runx1\"],\n",
    "    \"Eto2\" : [\"Erg\"],\n",
    "    \"Gata1\" : [\"Gata1\",\"Scl\",\"Pu.1\",\"Gata2\"],\n",
    "    \"Fli1\" : [\"Fli1\",\"Runx1\",\"Pu.1\",\"Scl\",\"Gata2\",\"Hhex\",\"Erg\",\"Smad6\"],\n",
    "    \"Erg\" : [\"Smad6\",\"Runx1\",\"Erg\",\"Hhex\",\"Gata2\",\"Fli1\"],\n",
    "    \"Zfpm1\" : [\"Gata2\"],\n",
    "    \"Gata2\" : [\"Zfpm1\",\"Runx1\",\"Smad6\",\"Eto2\",\"Scl\",\"Gata2\",\"Hhex\",\"Fli1\",\"Erg\"],\n",
    "    \"Hhex\" : [\"Gata2\"]\n",
    "}\n",
    "```\n",
    "\n",
    "Each key is a transcription factor and each value is a list of target genes.\n",
    "\n",
    "Write a function `common_targets` that accepts three arguments: a TF-Target dictionary, and two TF\n",
    "names. The function should return a `list` with all the targets that are shared between the two TFs. The\n",
    "target `list` should be alphabetically ordered. When there are no common targets the function should return\n",
    "an empty `list`.\n",
    "With the network above, the following code:\n",
    "\n",
    "```python\n",
    "print(common_targets(hsc_network, \"Scl\", \"Gata2\"))\n",
    "print(common_targets(hsc_network, \"Smad6\", \"Eto2\"))\n",
    "print(common_targets(hsc_network, \"Zfpm1\", \"Hhex\"))\n",
    "```\n",
    "                     \n",
    "Should result in:\n",
    "\n",
    "```python\n",
    "['Erg', 'Eto2', 'Fli1', 'Gata2', 'Hhex', 'Runx1', 'Scl', 'Smad6', 'Zfpm1']\n",
    "[]\n",
    "['Gata2']\n",
    "```\n",
    "\n",
    "\n",
    "<details>\n",
    "<summary> If you are struggling with this exercise, click on the triangle to view tips. </summary>\n",
    "\n",
    "To tackle this exercise, let's start with something a bit more intuitive. Let's take this dictionary:\n",
    "\n",
    "```python\n",
    "room_furniture = {\n",
    "    'bedroom':  ['bed', 'lamp'],\n",
    "    'office':   ['lamp', 'desk', 'chair'],\n",
    "    'dining_room': ['lamp', 'table', 'chair']\n",
    "}\n",
    "```\n",
    "\n",
    "As you can see, in this dictionary, each key is a room, and each value is a list of the furniture in the room.\n",
    "\n",
    "1. Can you pull out the list of furnitures in the `bedroom`? Put it in a list called `furniture_room_1` and print this to the screen.\n",
    "2. Pull out the list of furnitures on the `office` as well, and put it in a list called `furniture_room_2` and print this to the screen also.\n",
    "3. Now we are going to ask: what furnitures are common between `furniture_room_1` and `furniture_room_2`? Let us start by considering the items in `furniture_room_1`, one by one. Do not code anything yet - just think along. What is the first item in `furniture_room_1`? Is it present in `furniture_room_2`? What is the second item in `furniture_room_1`? Is it present in `furniture_room_2`?\n",
    "4. Now try to formulate part 3 in code. What would you use to go over each item in `furniture_room_1`, one by one? What would you use to evaluate whether something is in `furniture_room_2` or not? For now, just print the common furnitures on the screen. (You should end up with just `lamp` on the screen. )\n",
    "5. Next, instead of printing the common furnitures on the screen, modify your code from part 4 and put the common furnitures in a `list`. To do this, first initialize an empty `list` called `common_furnitures`. Then, every time you identify a common furniture between `furniture_room_1` and `furniture_room_2`, add it to the existing `list`.\n",
    "6. Now let's turn this code into a function. Name the function `find_common_furnitures`. This function should take three arguments: `room_furniture_dict`, `room_1`, and `room_2`. So if you run:\n",
    "   \n",
    "    ```python\n",
    "    find_common_furnitures(room_furniture, 'bedroom', 'office')\n",
    "    ```\n",
    "\n",
    "    It should return a list, and the list should contain a single item 'lamp'.\n",
    "7. Try to run this:\n",
    "\n",
    "    ```python\n",
    "    find_common_furnitures(room_furniture, 'dining_room', 'office')\n",
    "    ```\n",
    "\n",
    "    What is the output? Why are the items in the output ordered that way? Modify your code so that the output is in alphabetical order. (Hint: review Chapter 2 if you've forgotten how to do this. Alternatively you can just Google it and check out some online guides.)\n",
    "\n",
    "8. Now go back to the exercise and read it carefully. Here you are given a dictionary (`hsc_network` instead of `room_furniture`), where the keys are *TFs* (instead of *rooms*), and values are *target genes* (instead of *furnitures*). You are asked to find *common target genes* (instead of *common furnitures*), when you are given *2 TFs* (instead of *2 rooms*) and a dictionary. Sounds like something that you can do!\n",
    "\n",
    "Note that your function “find_common_furnitures” will actually just directly work for this exercise. (Python doesn't understand rooms or TFs or furnitures or target genes - it is just looping through lists and matching strings.) However, it is important that your functions and variables have names that make sense for what you're doing, so make sure you modify your code to reflect this. \n",
    "\n",
    "</details>\n",
    "\n",
    "<br/>\n"
   ]
  },
  {
   "cell_type": "markdown",
   "metadata": {},
   "source": [
    "**Exercise 8.7: FASTA statistics**\n",
    "\n",
    "Write a function called `nuc_fasta`.\n",
    "This function should accept the name of a FASTA file as argument, read the FASTA sequences in that file, and print the nucleotide content of all the sequences.\n",
    "The function should print a header line, followed by the FASTA id (the sequence name) of every sequence, followed by the nucleotide content of that sequence. The output should be tab-separated. The nucleotide content should be specified as a fraction of the sequence length, with two digits in the order A, C, G and T. When you run your function on the input file `/content/gdrive/MyDrive/CFB_files/sequences.fa`, the output should *exactly* mach the following:\n",
    "\n",
    "```\n",
    "name\tA\tC\tG\tT\n",
    "chr14:89352059-89352259\t0.31\t0.28\t0.20\t0.22\n",
    "chr5:74264624-74264824\t0.34\t0.20\t0.20\t0.26\n",
    "chr2:132500203-132500403\t0.23\t0.12\t0.21\t0.43\n",
    "chr6:30630663-30630863\t0.28\t0.23\t0.27\t0.22\n",
    "chr15_KI270905v1_alt:1999423-1999623\t0.35\t0.22\t0.15\t0.28\n",
    "```"
   ]
  },
  {
   "cell_type": "markdown",
   "metadata": {},
   "source": [
    "**Exercise 8.8: motif scanning**\n",
    "\n",
    "Write a function that scans a FASTA file with an IUPAC consensus sequence.\n",
    "As an optional argument, a user should be able to specify a number of mismatches.\n",
    "As output, the function should print, for every match, the ID of the sequence and the position of the match within the sequence.\n",
    "\n",
    "**Test data**\n",
    "\n",
    "You can use the following files (adapted from [Chen et al. 2008](http://dx.doi.org/10.1016/j.cell.2008.04.043)), located in `/content/gdrive/MyDrive/CFB_files`, to test your code.\n",
    "\n",
    "* `consensus.txt`\n",
    "* `c-Myc.fa`\n",
    "* `STAT3.fa` \n",
    "\n",
    "Tip: start small. It is better to have code with limited functionality but works well, than a function that tries to do everything and fails."
   ]
  }
 ],
 "metadata": {
  "celltoolbar": "Tags",
  "kernelspec": {
   "display_name": "Python 3.9.7 ('testing')",
   "language": "python",
   "name": "python3"
  },
  "language_info": {
   "codemirror_mode": {
    "name": "ipython",
    "version": 3
   },
   "file_extension": ".py",
   "mimetype": "text/x-python",
   "name": "python",
   "nbconvert_exporter": "python",
   "pygments_lexer": "ipython3",
   "version": "3.9.7"
  },
  "vscode": {
   "interpreter": {
    "hash": "d3e95029f17eb34d2d190ec57747705a24a9150ea64dec8a02f0c1132051a0c3"
   }
  }
 },
 "nbformat": 4,
 "nbformat_minor": 4
}
