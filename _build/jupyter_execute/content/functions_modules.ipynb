{
 "cells": [
  {
   "cell_type": "markdown",
   "metadata": {},
   "source": [
    "# Functions and modules\n",
    "\n",
    "## Functions\n",
    "\n",
    "Functions are reusable pieces of programs. They allow you to give a name to a block of statements,\n",
    "allowing you to run that block using the specified name anywhere in your program and any number of\n",
    "times. This is known as *calling* the function. We have already used many built-in functions such\n",
    "as `print()`, `len()` and `range()`.\n",
    "\n",
    "The function concept is probably *the* most important building block of any non-trivial software\n",
    "(in any programming language), so we will explore various aspects of functions in this chapter.\n",
    "\n",
    "Functions are defined using the `def` keyword. After this keyword comes an *identifier* name for\n",
    "the function, followed by a pair of parentheses which may enclose some names of variables, and by\n",
    "the final colon that ends the line. Next follows the block of statements that are part of this\n",
    "function. An example will show that this is actually very simple.\n",
    "Here we define a function called `print_nuc_count()` using the syntax as explained above. \n",
    "Run the example to see the output.\n",
    "\n",
    "Example:"
   ]
  },
  {
   "cell_type": "code",
   "execution_count": 1,
   "metadata": {},
   "outputs": [
    {
     "name": "stdout",
     "output_type": "stream",
     "text": [
      "A 16\n",
      "C 9\n",
      "G 12\n",
      "T 17\n",
      "\n",
      "A 16\n",
      "C 9\n",
      "G 12\n",
      "T 17\n",
      "\n"
     ]
    }
   ],
   "source": [
    "def print_nuc_count():\n",
    "    dna = \"AGCTTTTCATTCTGACTGCAACGGGCAATATGTCTCTGTGTGGATTAAAAAAAG\"\n",
    "\n",
    "    for n in \"ACGT\":\n",
    "        print(n, dna.count(n))\n",
    "    print()\n",
    "\n",
    "print_nuc_count()\n",
    "print_nuc_count()"
   ]
  },
  {
   "cell_type": "markdown",
   "metadata": {},
   "source": [
    "Notice that we can call the same function twice which means we do not have to write the same code\n",
    "again.\n",
    "\n",
    "### Function Parameters\n",
    "\n",
    "The function `print_nuc_count` as defined above takes no arguments.\n",
    "Therefore, there are no parameters declared in the parentheses in the function definition.\n",
    "Often, we want to supply some information to the function in the form of arguments, \n",
    "so that the function can *do* something utilising those values.\n",
    "In that case we specify parameters in the function definition.\n",
    "These are basically just variable names that define the input to the function \n",
    "so that we can pass in different values to it and get back corresponding results.\n",
    "The values of these variables are defined when we call the function and are already assigned values\n",
    "when the function runs.\n",
    "Parameters are specified within the pair of parentheses in the function definition, separated by\n",
    "commas. When we call the function, we supply the arguments in the same way.  \n",
    "\n",
    "> **The difference between arguments and parameters**\n",
    ">\n",
    "> Note the terminology used - \n",
    "> the names given in the function definition are called *parameters* \n",
    "> whereas the values you supply in the function call are called *arguments*.\n",
    "\n",
    "The function we defined above is not very useful. \n",
    "We usually don't want to count the number of nucleotides in the same sequence again and again. \n",
    "We will define a function that takes one argument, called `seq`, which is used to determine the number of nucleotides."
   ]
  },
  {
   "cell_type": "code",
   "execution_count": 2,
   "metadata": {},
   "outputs": [
    {
     "name": "stdout",
     "output_type": "stream",
     "text": [
      "A 1\n",
      "C 2\n",
      "G 3\n",
      "T 3\n",
      "\n",
      "A 5\n",
      "C 1\n",
      "G 6\n",
      "T 3\n",
      "\n"
     ]
    }
   ],
   "source": [
    "def print_nuc_count(seq):\n",
    "\n",
    "    for n in \"ACGT\":\n",
    "        print(n, seq.count(n))\n",
    "    print()\n",
    "\n",
    "print_nuc_count(\"ACCGGGTTT\")\n",
    "\n",
    "dna = \"GACTGGATAGAGTAG\"\n",
    "print_nuc_count(dna)"
   ]
  },
  {
   "cell_type": "markdown",
   "metadata": {},
   "source": [
    "**How It Works** \n",
    "\n",
    "The first time we call the function `print_nuc_count`, \n",
    "we directly supply the sequence as arguments. \n",
    "In the second case, we call the function with a variable as argument. \n",
    "`print_nuc_count(dna)` causes the value of argument `dna` to be assigned to parameter `seq`. The `print_nuc_count` function works the same way in both cases.\n",
    "\n",
    "\n",
    "\n",
    "### Local Variables\n",
    "\n",
    "When you declare variables inside a function definition, they are not related in any way to other\n",
    "variables with the same names used outside the function - i.e. variable names are *local* to the\n",
    "function. This is called the *scope* of the variable. All variables have the scope of the block\n",
    "they are declared in starting from the point of definition of the name.\n"
   ]
  },
  {
   "cell_type": "code",
   "execution_count": 3,
   "metadata": {},
   "outputs": [
    {
     "name": "stdout",
     "output_type": "stream",
     "text": [
      "x is 50\n",
      "Changed local x to 2\n",
      "x is still 50\n"
     ]
    }
   ],
   "source": [
    "x = 50\n",
    "\n",
    "def func(x):\n",
    "    print('x is', x)\n",
    "    x = 2\n",
    "    print('Changed local x to', x)\n",
    "\n",
    "func(x)\n",
    "print('x is still', x)"
   ]
  },
  {
   "cell_type": "markdown",
   "metadata": {},
   "source": [
    "**How It Works** \n",
    "\n",
    "The first time that we print the *value* of the name *x* with the first line in the function's\n",
    "body, Python uses the value of the parameter declared in the main block, above the function\n",
    "definition.\n",
    "\n",
    "Next, we assign the value `2` to `x`. The name `x` is local to our function.  So, when we change\n",
    "the value of `x` in the function, the `x` defined in the main block remains unaffected.\n",
    "\n",
    "With the last `print` statement, we display the value of `x` as defined in the main block, thereby\n",
    "confirming that it is actually unaffected by the local assignment within the previously called\n",
    "function.\n",
    "\n",
    "\n",
    "### Default Argument Values\n",
    "\n",
    "For some functions, you may want to make some parameters *optional* and use default values in case\n",
    "the user does not want to provide values for them. This is done with the help of default argument\n",
    "values. You can specify default argument values for parameters by appending to the parameter name\n",
    "in the function definition the assignment operator (`=`) followed by the default value.\n",
    "\n",
    "Note that the default argument value should be a constant."
   ]
  },
  {
   "cell_type": "code",
   "execution_count": 4,
   "metadata": {},
   "outputs": [
    {
     "name": "stdout",
     "output_type": "stream",
     "text": [
      "Hello\n",
      "WorldWorldWorldWorldWorld\n"
     ]
    }
   ],
   "source": [
    "def say(message, times=1):\n",
    "    print(message * times)\n",
    "\n",
    "say('Hello')\n",
    "say('World', 5)"
   ]
  },
  {
   "cell_type": "markdown",
   "metadata": {},
   "source": [
    "**How It Works**\n",
    "\n",
    "The function named `say` is used to print a string as many times as specified. If we don't supply a\n",
    "value, then by default, the string is printed just once. We achieve this by specifying a default\n",
    "argument value of `1` to the parameter `times`.\n",
    "\n",
    "In the first usage of `say`, we supply only the string and it prints the string once. In the second\n",
    "usage of `say`, we supply both the string and an argument `5` stating that we want to *say* the\n",
    "string message 5 times.\n",
    "\n",
    "> **Caution**\n",
    "> \n",
    "> Only those parameters which are at the end of the parameter list can be given default argument\n",
    "> values i.e. you cannot have a parameter with a default argument value preceding a parameter without\n",
    "> a default argument value in the function's parameter list.\n",
    ">\n",
    "> This is because the values are assigned to the parameters by position. \n",
    "> For example, `def func(a, b=5)` is valid, but `def func(a=5, b)` is *not valid*.\n",
    "\n",
    "### Keyword Arguments\n",
    "\n",
    "If you have some functions with many parameters and you want to specify only some of them, then you\n",
    "can give values for such parameters by naming them - this is called *keyword arguments* - we use\n",
    "the name (keyword) instead of the position (which we have been using all along) to specify the\n",
    "arguments to the function.\n",
    "\n",
    "There are two advantages - one, using the function is easier since we do not need to worry about\n",
    "the order of the arguments. Two, we can give values to only those parameters to which we want to,\n",
    "provided that the other parameters have default argument values.\n"
   ]
  },
  {
   "cell_type": "code",
   "execution_count": 5,
   "metadata": {},
   "outputs": [
    {
     "name": "stdout",
     "output_type": "stream",
     "text": [
      "a is 3 and b is 7 and c is 10\n",
      "a is 25 and b is 5 and c is 24\n",
      "a is 100 and b is 5 and c is 50\n"
     ]
    }
   ],
   "source": [
    "def func(a, b=5, c=10):\n",
    "    print('a is', a, 'and b is', b, 'and c is', c)\n",
    "\n",
    "func(3, 7)\n",
    "func(25, c=24)\n",
    "func(c=50, a=100)"
   ]
  },
  {
   "cell_type": "markdown",
   "metadata": {},
   "source": [
    "**How It Works** \n",
    "\n",
    "The function named `func` has one parameter without a default argument value, followed by two\n",
    "parameters with default argument values.\n",
    "\n",
    "In the first usage, `func(3, 7)`, the parameter `a` gets the value `3`, the parameter `b` gets the\n",
    "value `7` and `c` gets the default value of `10`.\n",
    "\n",
    "In the second usage `func(25, c=24)`, the variable `a` gets the value of 25 due to the position of\n",
    "the argument. Then, the parameter `c` gets the value of `24` due to naming i.e. keyword\n",
    "arguments. The variable `b` gets the default value of `5`.\n",
    "\n",
    "In the third usage `func(c=50, a=100)`, we use keyword arguments for all specified values. Notice\n",
    "that we are specifying the value for parameter `c` before that for `a` even though `a` is defined\n",
    "before `c` in the function definition.\n",
    "\n",
    "### The `return` statement\n",
    "\n",
    "The `return` statement is used to *return* from a function i.e. break out of the function. We can\n",
    "optionally *return a value* from the function as well.\n"
   ]
  },
  {
   "cell_type": "code",
   "execution_count": 6,
   "metadata": {},
   "outputs": [
    {
     "name": "stdout",
     "output_type": "stream",
     "text": [
      "3\n"
     ]
    }
   ],
   "source": [
    "def maximum(x, y):\n",
    "    if x > y:\n",
    "        return x\n",
    "    elif x == y:\n",
    "        return 'The numbers are equal'\n",
    "    else:\n",
    "        return y\n",
    "\n",
    "print(maximum(2, 3))"
   ]
  },
  {
   "cell_type": "markdown",
   "metadata": {},
   "source": [
    "**How It Works**\n",
    "\n",
    "The `maximum` function returns the maximum of the parameters, in this case the numbers supplied to\n",
    "the function. It uses a simple `if..else` statement to find the greater value and then *returns*\n",
    "that value.\n",
    "\n",
    "Note that a `return` statement without a value is equivalent to `return None`. `None` is a special\n",
    "type in Python that represents nothingness. For example, it is used to indicate that a variable has\n",
    "no value if it has a value of `None`.\n",
    "\n",
    "Every function implicitly contains a `return None` statement at the end unless you have written\n",
    "your own `return` statement. You can see this by running `print(some_function())` where the function\n",
    "`some_function` does not use the `return` statement such as:\n"
   ]
  },
  {
   "cell_type": "code",
   "execution_count": 7,
   "metadata": {},
   "outputs": [
    {
     "name": "stdout",
     "output_type": "stream",
     "text": [
      "None\n"
     ]
    }
   ],
   "source": [
    "def some_function():\n",
    "    pass\n",
    "\n",
    "print(some_function())"
   ]
  },
  {
   "cell_type": "markdown",
   "metadata": {},
   "source": [
    "The `pass` statement is used in Python to indicate an empty block of statements.\n",
    "\n",
    "```{note}\n",
    "There is a built-in function called `max()` that already implements the 'find maximum'\n",
    "functionality, so use this built-in function whenever possible.\n",
    "```\n",
    "\n",
    "\n",
    "## DocStrings - documenting your functions\n",
    "\n",
    "Python has a nifty feature called *documentation strings*, \n",
    "usually referred to by its shorter name *docstrings*. \n",
    "DocStrings are an important tool that you should make use of since it helps to\n",
    "document the program better and makes it easier to understand. \n",
    "We can even get the docstring back from, \n",
    "say a function, when the program is actually running!\n"
   ]
  },
  {
   "cell_type": "code",
   "execution_count": 8,
   "metadata": {},
   "outputs": [
    {
     "name": "stdout",
     "output_type": "stream",
     "text": [
      "(3, 1, 1, 2)\n",
      "\n",
      "Help:\n",
      "Returns the nucleotide content of a sequence.\n",
      "\n",
      "    Accepts a string dna that should contain only \"ACGT\" characters.\n"
     ]
    }
   ],
   "source": [
    "# Please note the function below is not optimal, and would not be implemented like this.\n",
    "# We would use a data type called 'dictionary', which is discussed in the next chapter.\n",
    "\n",
    "def count_nuc(dna):\n",
    "    \"\"\"Returns the nucleotide content of a sequence.\n",
    "\n",
    "    Accepts a string dna that should contain only \"ACGT\" characters.\"\"\"\n",
    "    # Initialize empty variables\n",
    "    a = 0\n",
    "    c = 0\n",
    "    g = 0\n",
    "    t = 0\n",
    "\n",
    "    for nuc in dna.lower():\n",
    "        if nuc == \"a\":\n",
    "            a += 1\n",
    "        elif nuc == \"c\":\n",
    "            c += 1\n",
    "        elif nuc == \"g\":\n",
    "            g += 1\n",
    "        elif nuc == \"t\":\n",
    "            t += 1\n",
    "\n",
    "    return a, c, g, t\n",
    "\n",
    "print(count_nuc(\"GATTACA\"))\n",
    "print()\n",
    "print(\"Help:\")\n",
    "print(count_nuc.__doc__)"
   ]
  },
  {
   "cell_type": "markdown",
   "metadata": {},
   "source": [
    "**How It Works**\n",
    "\n",
    "A string on the first logical line of a function is the *docstring* for that function.\n",
    "The convention followed for a docstring is a multi-line string where the first line starts with a\n",
    "capital letter and ends with a dot. Then the second line is blank followed by any detailed\n",
    "explanation starting from the third line. You are *strongly advised* to follow this convention for\n",
    "all your docstrings for all your non-trivial functions.\n",
    "\n",
    "We can access the docstring of the `count_nuc` function using the `__doc__` (notice the *double\n",
    "underscores*) attribute (name belonging to) of the function.\n",
    " \n",
    "If you have used `help()` in Python, then you have already seen the\n",
    "usage of docstrings! What it does is just fetch the `__doc__`\n",
    "attribute of that function and displays it in a neat manner for\n",
    "you. You can try it out on the function above - just include `help(count_nuc)` in your\n",
    "program. Remember to press the `q` key to exit `help`.\n",
    "\n",
    "Automated tools can retrieve the documentation from your program in this manner. \n",
    "Therefore, we *strongly recommend* that you use docstrings for any non-trivial function that you write. \n",
    "The `pydoc` command that comes with your Python distribution works similarly to `help()` using docstrings.\n",
    "\n",
    "```{note}\n",
    "From now on, for this course, **all** your functions have to be documented using a docstring! \n",
    "```"
   ]
  },
  {
   "cell_type": "markdown",
   "metadata": {},
   "source": [
    "## Exercises\n",
    "\n",
    "**Exercise 6.1**\n",
    "\n",
    "Write a function called `median()` that takes a list of numbers as an argument and returns the median as a `float`.  \n",
    "\n",
    "<details>\n",
    "<summary> If you are struggling with this exercise, click on the triangle to view tips. </summary>\n",
    "\n",
    "To start off, do not code anything yet. Just think along with the following questions.\n",
    "\n",
    "1. What is the definition of a median? If you don't know, see definition [here](https://en.wikipedia.org/wiki/Median).\n",
    "2. If you are given the following list: `[1,3,20]`, what is the median? If you are given a different list: `[1,5,12,38]`, what is the median? \n",
    "3. What did you do differently for the two lists above? Why?\n",
    "4. If I give you a new list, but you don't know how many items (individual numbers) it contains. What would you need to do?\n",
    "5. In the two example lists in above, the numbers are given in order (lowest to highest). What would you do if they are not ordered?\n",
    "6. Now collect your answers from parts 1-5. Write down the steps you would take to calculate the median, if you are given an unknown list of numbers. This is your *approach*. \n",
    "   \n",
    "   ```{note}\n",
    "   The approach is the most important part of programming! If you do not have a solid approach, your code would never work in a consistent way. So really spend the time to develop and evaluate your approach before you start to code.\n",
    "   ```\n",
    "\n",
    "7.  Read the exercise again. Does your approach satisfy everything that the exercise is asking for? If it doesn't, modify your approach.\n",
    "\n",
    "Once you have a good approach, you may start to code. Do it one step at a time. After writing the code for a step, do a small test and use `print()` to check that the output is correct. \n",
    "\n",
    "For example, if one of your steps is to \"put the list in order (smallest to highest)\", maybe you decide to use `list.sort()` to do this. But is it working as intended? To check this, make up a small list which is randomly ordered, run it through your code, then use `print()` to see if this has successfully put your list of numbers in order.\n",
    "\n",
    "If you have been following these tips, then maybe you just wrote some code, but they are not in a function. Review the textbook materials from this chapter, and convert your code into a function. Then, you can test your function with some test lists. For example, if you run the following code:\n",
    "\n",
    "```python\n",
    "test_list_1 = [41, 149, 176, 63, 79, 43, 174, 148, 34, 25, 138, 99, 39, 32, 119, 113, 175, 182, 168, 80, 100, 16, 125, 59, 67]\n",
    "test_list_2 = [36, 170, 199, 17, 14, 21, 19, 105, 47, 175]\n",
    "print(median(test_list_1))\n",
    "print(median(test_list_2))\n",
    "```\n",
    "your output should be:\n",
    "```python\n",
    "99.0\n",
    "41.5\n",
    "```\n",
    "\n",
    "</details>\n",
    "\n",
    "<br/>\n",
    "\n",
    "\n",
    "**Exercise 6.2**\n",
    "\n",
    "Write a function called `sequence_type()` that takes one argument, a `string`. The function should return a `string` with one of three values: `\"dna\"`, `\"protein\"` or `\"other\"`. This should depend on the input. If the input only contains A, C, T, G or N it should return `\"dna\"`. If the input contains only valid one-letter IUPAC amino acid code (see IUPAC table below) it should return `\"protein\"`. In all other cases it should return `\"other\"`. The function should work, regardless of the input being upper-case, lower-case or a mix.\n",
    "\n",
    "```{note}\n",
    "Theoretically, a sequencing consisting of A, C, G, T, or N can be an amino acid sequence consisting of Alanines, Cysteines, Glycines, Threonines, and Asparagines. However, you can ignore this possibility for this exercise.\n",
    "```\n",
    "\n",
    "```\n",
    "One-letter Code:  Three-letter Code:  Amino Acid:\n",
    "----------------  ------------------  -----------\n",
    "A.................Ala.................Alanine\n",
    "B.................Asx.................Aspartic acid or Asparagine\n",
    "C.................Cys.................Cysteine\n",
    "D.................Asp.................Aspartic Acid\n",
    "E.................Glu.................Glutamic Acid\n",
    "F.................Phe.................Phenylalanine\n",
    "G.................Gly.................Glycine\n",
    "H.................His.................Histidine\n",
    "I.................Ile.................Isoleucine\n",
    "K.................Lys.................Lysine\n",
    "L.................Leu.................Leucine\n",
    "M.................Met.................Methionine\n",
    "N.................Asn.................Asparagine\n",
    "P.................Pro.................Proline\n",
    "Q.................Gln.................Glutamine\n",
    "R.................Arg.................Arginine\n",
    "S.................Ser.................Serine\n",
    "T.................Thr.................Threonine\n",
    "V.................Val.................Valine\n",
    "W.................Trp.................Tryptophan\n",
    "X.................Xaa.................Any amino acid\n",
    "Y.................Tyr.................Tyrosine\n",
    "Z.................Glx.................Glutamine or Glutamic acid\n",
    "```\n",
    "\n",
    "<details>\n",
    "<summary> If you are struggling with this exercise, click on the triangle to view tips. </summary>\n",
    "\n",
    "   <details>\n",
    "   <summary>I. Problem analysis. </summary>\n",
    "\n",
    "   1. Read the first sentence of the exercise. What is a function? What is an argument? This sentence specifies that the argument should be a `string`. What is a `string`? Can you think of some examples for a `string`?\n",
    "   2. Read the second sentence. What does 'return' mean? What is a 'value'? \n",
    "   3. Both the first sentence and the second sentence talk about `string`s. Are they referring to the same thing? Why or why not? \n",
    "   4. From the second sentence, you know that your function should return one of three possibilities. What are they? Keep them in mind as we continue analyzing the exercise.\n",
    "   5. Continue reading the text of the exercise. The 4th sentence states:\n",
    "      \n",
    "      >  If the input only contains A, C, T, G or N it should return `\"dna\"`.\n",
    "\n",
    "      As you know, a DNA sequence is made up of only 4 nucleotide bases: A, C, T, or G. Why is 'N' included in the above sentences? What does 'N' mean? Think of an example `string` that is a sequence for `dna`, and write this down.\n",
    "   6. Continue reading the text of the exercise. The next sentence states:\n",
    "\n",
    "      > If the input contains only valid one-letter IUPAC amino acid code (see IUPAC table below) it should return `\"protein\"`. \n",
    "\n",
    "      Look at the IUPAC table that is given to you. What information does this table contain? What does the code 'B' symolize? What does 'D' symbolize? What does 'N' symbolize? What does 'X' symbolize? \n",
    "\n",
    "      The sentence refers to *valid* one-letter IUPAC amino acid code. What is an *invalid* one-letter IUPAC amino acid code? Can you find an example?\n",
    "\n",
    "      Think of an example `string` that is a sequence for `\"protein\"`, and write this down. \n",
    "\n",
    "   7. Continue reading the text of the exercise. Think of an example `string` for `\"other\"`, and write this down.\n",
    "   8. Read the last sentence of the exercise. Now look at your 3 example `string`s. Are your example `string`s all upper-case, all lower-case, or a mix? Modify some of these `string`s so you have an example of each.\n",
    "   9. Read the note that is part of the exercise. What does this mean? If you have the following `string`:\n",
    "      \n",
    "      ```python\n",
    "      'AcgNT'\n",
    "      ```\n",
    "\n",
    "      What should your function return? What other option are you ignoring (as instructed by the note)?\n",
    "   \n",
    "   </details>\n",
    "\n",
    "   <details>\n",
    "   <summary>II. Approach and code. </summary>\n",
    "   \n",
    "   1. Consider the 3 example `string`s that you have written down. What differentiates between them? In other words, what makes one of them a `dna`, one of them a `protein`, and one of them `other`? Write this down in three \"if... then...\" statements. This is the first draft of your *approach*.\n",
    "   2. It is important to critically examine your approach, and modify it if necessary. Consider the following 5 examples. Use your \"if... then...\" statements to determine if they are `dna`, `protein`, or `other`.\n",
    "      \n",
    "         ```python\n",
    "         str_1 = 'acgt'\n",
    "         str_2 = 'acgtd'\n",
    "         str_3 = 'acgtdj'\n",
    "         str_4 = 'AnApple'\n",
    "         str_5 = 'An Apple'\n",
    "         ```\n",
    "   3. Remember that in programming, you are basically giving instructions one step at a time. This means that the order of the steps is very important. Examine your three \"if... then...\" statements. Is the order of the three statement logical? If not, fix the order. You may also need to modify your \"if... then...\" statements.\n",
    "   4. Did you notice that it is very important to know what letters are symbols for nucleotides, and what letters are symbols for amino acids? Why is this? Let's collect the nucleotides and amino acids into two lists.\n",
    "        \n",
    "         ```python\n",
    "         nucleotide_list = ['a', 'c', 'g', 't', 'n']\n",
    "         aa_modified_list = ['b', 'd', 'e', 'f', 'h', 'i', 'k', 'l', 'm', 'p', 'q', 'r', 's', 'v', 'w', 'x', 'y', 'z']\n",
    "         ```\n",
    "   5. Notice that in the two lists above, we are placing the letters 'a', 'c', 'g', 't', and 'n' *only* in `nucleotide_list`, but *not* in the `aa_modified_list` (this is why we called this list the 'aa modified list', instead of just 'amino acid list'). Why are we doing this? How will it help us later?   \n",
    "   6. Next, recall what you've learned about the `in` operator in Chapter 2. For example, if you want to ask whether the letter `j` is in `nucleotide_list`, how would you code this? If you want to ask whether the letter `j` is in `aa_modified_list`, how would you code this?\n",
    "   7. Recall what you've leared about loops in Chapter 4. If you want to consider each individual letter in a string (e.g. `acgtdj`), one at a time, how would you code this? Combine this with your code from the previous step: consider the letters in a string one at a time, and for each letter ask whether it is in `nucleotide_list` and whether it is in `aa_modified_list`. \n",
    "   8. Recall what you've learned about conditionals in Chapter 3. How can you use conditionals to convert your \"if... then...\" statements into code? Combine this with your code from the previous step.\n",
    "   9. Test what you have written with the three examples that you have written down in the previous section, and with the 5 examples given above. Did your code correctly classify each example into `dna`, `protein`, or `other`? If not, what went wrong? Isolate the issue and examine the logic behind your approach. Review what you have learned in previous chapters, and critically examine your code for any errors.\n",
    "\n",
    "   </details>\n",
    "\n",
    "\n",
    "   <details>\n",
    "   <summary>III. Final touches and testing.</summary>\n",
    "\n",
    "   If you have not done so already, convert your code into a function. Read the complete text of the exercise again. Does your code satisfy everything that the exercise asks for? \n",
    "   \n",
    "   You can now test your function with the following code:\n",
    "\n",
    "   ```python\n",
    "   test_str_1 = \"FNEFDKRYAQGKGFITMALNSCHTSSLPTPEDKEQAQQTHHEVLMSLILGLLRSWNDPL\"\n",
    "   test_str_2 = \"FNEFDKRYAQGKGFITMALNSCHTSSLPTPEDKEQAQJQTHHEVLMSLILGLLRSWNDPL\"\n",
    "   test_str_3 = \"tgacctcaactacatggtgagtgctacatggtgagccccaaagctggtgtggg\"\n",
    "   print(sequence_type(test_str_1))\n",
    "   print(sequence_type(test_str_2))\n",
    "   print(sequence_type(test_str_3))\n",
    "   ```\n",
    "   your output should be:\n",
    "   ```python\n",
    "   protein\n",
    "   other\n",
    "   dna\n",
    "   ```\n",
    "   </details>\n",
    "\n",
    "</details>\n",
    "\n",
    "<br/>"
   ]
  },
  {
   "cell_type": "markdown",
   "metadata": {},
   "source": [
    "## Modules\n",
    "\n",
    "Python functions can be stored together in a *module*. A module, a collection of functions with a certain theme, can be *imported* by another program to make use of its functionality. This is how we can\n",
    "use the Python standard library as well. First, we will see how to use the standard library\n",
    "modules."
   ]
  },
  {
   "cell_type": "code",
   "execution_count": 9,
   "metadata": {},
   "outputs": [
    {
     "name": "stdout",
     "output_type": "stream",
     "text": [
      "4.0\n"
     ]
    }
   ],
   "source": [
    "import math\n",
    "\n",
    "print(math.sqrt(16))"
   ]
  },
  {
   "cell_type": "markdown",
   "metadata": {},
   "source": [
    "**How It Works**\n",
    "\n",
    "First, we *import* the `math` module using the `import` statement. Basically, this translates to us\n",
    "telling Python that we want to use this module. The `math` module contains mathematical functionality. \n",
    "\n",
    "When Python executes the `import math` statement, it looks for the `math` module. In this case, it is\n",
    "one of the built-in modules, and hence Python knows where to find it.\n",
    "\n",
    "If it was not a compiled module i.e. a module written in Python, then the Python interpreter will\n",
    "search for it in the directories listed in its `sys.path` variable. If the module is found, then\n",
    "the statements in the body of that module are run and the module is made *available* for you\n",
    "to use. Note that the initialization is done only the *first* time that we import a module.\n",
    "\n",
    "The `sqrt()` function in the `sys` module is accessed using the dotted notation i.e. `sys.sqrt()`. It\n",
    "clearly indicates that this name is part of the `sys` module. Another advantage of this approach is\n",
    "that the name does not clash with any `sqrt` variable used in your program.\n",
    "\n",
    "There are many more functions defined in the `math` module."
   ]
  },
  {
   "cell_type": "code",
   "execution_count": 10,
   "metadata": {},
   "outputs": [
    {
     "name": "stdout",
     "output_type": "stream",
     "text": [
      "32.0\n",
      "\n",
      "1.0000000005668856\n",
      "True\n"
     ]
    }
   ],
   "source": [
    "print(math.pow(2, 5))\n",
    "print()\n",
    "\n",
    "result = math.log(2.71828183)\n",
    "print(result)\n",
    "print(math.isclose(result, 1))"
   ]
  },
  {
   "cell_type": "markdown",
   "metadata": {},
   "source": [
    "All the functions in the module are described [here](https://docs.python.org/3/library/math.html)."
   ]
  },
  {
   "cell_type": "markdown",
   "metadata": {},
   "source": [
    "### The from ... import statement\n",
    "\n",
    "If you want to directly import the `sqrt` function into your program \n",
    "(to avoid typing the `math.`everytime for it), \n",
    "then you can use the `from math import sqrt` statement.\n",
    "\n",
    "In general, the `import` statement is better since your program will avoid name clashes and will be more readable.\n"
   ]
  },
  {
   "cell_type": "code",
   "execution_count": 11,
   "metadata": {},
   "outputs": [
    {
     "name": "stdout",
     "output_type": "stream",
     "text": [
      "Square root of 16 is 4.0\n"
     ]
    }
   ],
   "source": [
    "from math import sqrt\n",
    "print(\"Square root of 16 is\", sqrt(16))"
   ]
  },
  {
   "cell_type": "markdown",
   "metadata": {},
   "source": [
    "### Multiple imports\n",
    "\n",
    "You can import from many different modules."
   ]
  },
  {
   "cell_type": "code",
   "execution_count": 12,
   "metadata": {},
   "outputs": [
    {
     "name": "stdout",
     "output_type": "stream",
     "text": [
      "The square root of 16 is 4.0\n",
      "\n",
      "Today is 2024-08-05\n",
      "\n",
      "Here you have a pseudo-random number: 0.7976081994615655\n",
      "Or a random integer between 0 and 10: 3\n"
     ]
    }
   ],
   "source": [
    "import random\n",
    "from datetime import date\n",
    "from math import sqrt\n",
    "\n",
    "n = 16\n",
    "print(\"The square root of {} is {}\".format(n, sqrt(n)))\n",
    "print()\n",
    "\n",
    "print(\"Today is {}\".format(date.today()))\n",
    "print()\n",
    "\n",
    "print(\"Here you have a pseudo-random number:\", random.random())\n",
    "print(\"Or a random integer between 0 and 10:\", random.randint(0, 10))"
   ]
  },
  {
   "cell_type": "markdown",
   "metadata": {},
   "source": [
    " ```{note}\n",
    "In this book, we use the `import` statements in the cells where they're needed. However, in general, imports are **always** put at the **top** of the file.\n",
    " ```"
   ]
  },
  {
   "cell_type": "markdown",
   "metadata": {},
   "source": [
    "## Exercises\n",
    "\n",
    "**Exercise 6.3**\n",
    "\n",
    "Write a function `random_sequence()` that generates a string with a random DNA sequence of length `length`. The `length` argument should have a default value of `100`. All nucleotides should have an equal chance of occurring.\n",
    "\n",
    "**Exercise 6.4**\n",
    "\n",
    "Adapt your function `random_sequence()` and add an optional argument `gc`, which determines the total fraction of G + C in the sequence. This means that if you call `random_sequence(length=100, gc=40)` that 40 out of the 100 characters of the returned string should be a G or a C. The default GC% should be 50%. Note that there are multiple solutions possible. Hint: check the following functions from the `random` module:\n",
    "\n",
    "* `randint()`\n",
    "* `random()`\n",
    "* `choice()`\n",
    "* `shuffle()`\n"
   ]
  },
  {
   "cell_type": "code",
   "execution_count": null,
   "metadata": {},
   "outputs": [],
   "source": []
  }
 ],
 "metadata": {
  "celltoolbar": "Tags",
  "kernelspec": {
   "display_name": "Python 3",
   "language": "python",
   "name": "python3"
  },
  "language_info": {
   "codemirror_mode": {
    "name": "ipython",
    "version": 3
   },
   "file_extension": ".py",
   "mimetype": "text/x-python",
   "name": "python",
   "nbconvert_exporter": "python",
   "pygments_lexer": "ipython3",
   "version": "3.9.5"
  }
 },
 "nbformat": 4,
 "nbformat_minor": 4
}